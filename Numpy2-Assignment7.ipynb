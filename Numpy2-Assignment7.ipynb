{
 "cells": [
  {
   "cell_type": "code",
   "execution_count": 19,
   "metadata": {},
   "outputs": [
    {
     "name": "stdout",
     "output_type": "stream",
     "text": [
      "[5.0, 4.67, 5.67, 6.67, 9.67, 28.67, 49.33, 72.67, 84.0, 93.33, 116.33]\n"
     ]
    }
   ],
   "source": [
    "#A function to find moving average in an array over a window\n",
    "\n",
    "#Import the numpy package\n",
    "import numpy as np\n",
    "\n",
    "#User defined function 'mavg' which takes parameters as:\n",
    "#arr: An input array\n",
    "#k: The window size\n",
    "\n",
    "def mavg(arr, k):\n",
    "    #Find the no. of values\n",
    "    count = len(arr)-k+1\n",
    "    \n",
    "    #Initialize an empty list\n",
    "    list1 = []\n",
    "    \n",
    "    #Find the moving average based on window size\n",
    "    for i in range (count):\n",
    "        list1.append(np.mean(arr[i:i+k]).round(2))\n",
    "        \n",
    "    #Print the moving average values\n",
    "    print(list1)\n",
    "\n",
    "#Usage of 'mavg function'\n",
    "#Define the input array\n",
    "arr1 = np.array([3, 5, 7, 2, 8, 10, 11, 65, 72, 81, 99, 100, 150])\n",
    "#Define the window size\n",
    "window = 3\n",
    "#Call the moving average function\n",
    "mavg(arr1, window)"
   ]
  },
  {
   "cell_type": "code",
   "execution_count": null,
   "metadata": {},
   "outputs": [],
   "source": []
  }
 ],
 "metadata": {
  "kernelspec": {
   "display_name": "Python 3",
   "language": "python",
   "name": "python3"
  },
  "language_info": {
   "codemirror_mode": {
    "name": "ipython",
    "version": 3
   },
   "file_extension": ".py",
   "mimetype": "text/x-python",
   "name": "python",
   "nbconvert_exporter": "python",
   "pygments_lexer": "ipython3",
   "version": "3.7.2"
  }
 },
 "nbformat": 4,
 "nbformat_minor": 2
}
